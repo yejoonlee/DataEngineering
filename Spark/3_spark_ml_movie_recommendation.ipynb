{
 "cells": [
  {
   "cell_type": "code",
   "execution_count": 1,
   "id": "04a393e5",
   "metadata": {
    "scrolled": true
   },
   "outputs": [
    {
     "name": "stderr",
     "output_type": "stream",
     "text": [
      "22/01/04 23:52:02 WARN Utils: Your hostname, iyejun-ui-MacBookAir.local resolves to a loopback address: 127.0.0.1; using 192.168.35.206 instead (on interface en0)\n",
      "22/01/04 23:52:02 WARN Utils: Set SPARK_LOCAL_IP if you need to bind to another address\n",
      "Using Spark's default log4j profile: org/apache/spark/log4j-defaults.properties\n",
      "Setting default log level to \"WARN\".\n",
      "To adjust logging level use sc.setLogLevel(newLevel). For SparkR, use setLogLevel(newLevel).\n",
      "22/01/04 23:52:04 WARN NativeCodeLoader: Unable to load native-hadoop library for your platform... using builtin-java classes where applicable\n",
      "22/01/04 23:52:06 WARN Utils: Service 'SparkUI' could not bind on port 4040. Attempting port 4041.\n"
     ]
    }
   ],
   "source": [
    "from pyspark.sql import SparkSession\n",
    "\n",
    "MAX_MEMORY = \"5g\"\n",
    "spark = SparkSession.builder.appName(\"movie-recommendation\")\\\n",
    "    .config(\"spark.executor.memory\", MAX_MEMORY)\\\n",
    "    .config(\"spark.driver.memory\", MAX_MEMORY)\\\n",
    "    .getOrCreate()"
   ]
  },
  {
   "cell_type": "code",
   "execution_count": 2,
   "id": "9cbb3ad0",
   "metadata": {},
   "outputs": [
    {
     "name": "stderr",
     "output_type": "stream",
     "text": [
      "                                                                                \r"
     ]
    }
   ],
   "source": [
    "ratings_file = \"/Users/yeznable/Documents/GitHub/Data_Processing/Spark/data/ml-25m/ratings.csv\"\n",
    "ratings_df = spark.read.csv(f\"file:///{ratings_file}\", inferSchema=True, header=True)"
   ]
  },
  {
   "cell_type": "code",
   "execution_count": 3,
   "id": "ea732d64",
   "metadata": {},
   "outputs": [
    {
     "name": "stdout",
     "output_type": "stream",
     "text": [
      "root\n",
      " |-- userId: integer (nullable = true)\n",
      " |-- movieId: integer (nullable = true)\n",
      " |-- rating: double (nullable = true)\n",
      " |-- timestamp: integer (nullable = true)\n",
      "\n"
     ]
    }
   ],
   "source": [
    "ratings_df.printSchema()"
   ]
  },
  {
   "cell_type": "code",
   "execution_count": 4,
   "id": "0f04e7f2",
   "metadata": {},
   "outputs": [],
   "source": [
    "ratings_df = ratings_df.select([\"userId\", \"movieId\", \"rating\"])"
   ]
  },
  {
   "cell_type": "code",
   "execution_count": 5,
   "id": "1d944f6d",
   "metadata": {},
   "outputs": [
    {
     "name": "stderr",
     "output_type": "stream",
     "text": [
      "[Stage 2:=================================================>         (5 + 1) / 6]\r"
     ]
    },
    {
     "name": "stdout",
     "output_type": "stream",
     "text": [
      "+-------+------------------+\n",
      "|summary|            rating|\n",
      "+-------+------------------+\n",
      "|  count|          25000095|\n",
      "|   mean| 3.533854451353085|\n",
      "| stddev|1.0607439611423535|\n",
      "|    min|               0.5|\n",
      "|    max|               5.0|\n",
      "+-------+------------------+\n",
      "\n"
     ]
    },
    {
     "name": "stderr",
     "output_type": "stream",
     "text": [
      "\r",
      "                                                                                \r"
     ]
    }
   ],
   "source": [
    "ratings_df.select(\"rating\").describe().show()"
   ]
  },
  {
   "cell_type": "code",
   "execution_count": 6,
   "id": "beaf3800",
   "metadata": {},
   "outputs": [],
   "source": [
    "train_df, test_df = ratings_df.randomSplit([0.8, 0.2])"
   ]
  },
  {
   "cell_type": "code",
   "execution_count": 7,
   "id": "58d19f56",
   "metadata": {},
   "outputs": [],
   "source": [
    "from pyspark.ml.recommendation import ALS\n",
    "\n",
    "als = ALS(\n",
    "    maxIter=5,\n",
    "    regParam=0.1,\n",
    "    userCol=\"userId\",\n",
    "    itemCol=\"movieId\",\n",
    "    ratingCol=\"rating\",\n",
    "    coldStartStrategy=\"drop\"\n",
    ")"
   ]
  },
  {
   "cell_type": "code",
   "execution_count": 8,
   "id": "7e04ee4e",
   "metadata": {},
   "outputs": [
    {
     "name": "stderr",
     "output_type": "stream",
     "text": [
      "22/01/04 23:56:48 WARN InstanceBuilder$NativeBLAS: Failed to load implementation from:dev.ludovic.netlib.blas.JNIBLAS\n",
      "22/01/04 23:56:48 WARN InstanceBuilder$NativeBLAS: Failed to load implementation from:dev.ludovic.netlib.blas.ForeignLinkerBLAS\n",
      "22/01/04 23:56:50 WARN InstanceBuilder$NativeLAPACK: Failed to load implementation from:dev.ludovic.netlib.lapack.JNILAPACK\n",
      "                                                                                \r"
     ]
    }
   ],
   "source": [
    "model = als.fit(train_df)"
   ]
  },
  {
   "cell_type": "code",
   "execution_count": 9,
   "id": "3c83ed61",
   "metadata": {},
   "outputs": [
    {
     "name": "stderr",
     "output_type": "stream",
     "text": [
      "                                                                                \r"
     ]
    },
    {
     "name": "stdout",
     "output_type": "stream",
     "text": [
      "+-------+------------------+------------------+\n",
      "|summary|            rating|        prediction|\n",
      "+-------+------------------+------------------+\n",
      "|  count|           4998017|           4998017|\n",
      "|   mean|3.5342159700537232|3.4364396529128003|\n",
      "| stddev|1.0606504718997283|0.6467038693658687|\n",
      "|    min|               0.5|        -2.1877646|\n",
      "|    max|               5.0|         6.7436566|\n",
      "+-------+------------------+------------------+\n",
      "\n"
     ]
    }
   ],
   "source": [
    "predictions = model.transform(test_df)\n",
    "predictions.select('rating', 'prediction').describe().show()"
   ]
  },
  {
   "cell_type": "code",
   "execution_count": 10,
   "id": "49e6aa7b",
   "metadata": {},
   "outputs": [
    {
     "name": "stderr",
     "output_type": "stream",
     "text": [
      "[Stage 147:>                                                        (0 + 4) / 4]\r"
     ]
    },
    {
     "name": "stdout",
     "output_type": "stream",
     "text": [
      "0.8085926796737654\n"
     ]
    },
    {
     "name": "stderr",
     "output_type": "stream",
     "text": [
      "\r",
      "[Stage 147:============================>                            (2 + 2) / 4]\r",
      "\r",
      "                                                                                \r"
     ]
    }
   ],
   "source": [
    "from pyspark.ml.evaluation import RegressionEvaluator\n",
    "\n",
    "evaluator = RegressionEvaluator(metricName=\"rmse\", labelCol='rating', predictionCol='prediction')\n",
    "rmse = evaluator.evaluate(predictions)\n",
    "print(rmse)"
   ]
  },
  {
   "cell_type": "code",
   "execution_count": 11,
   "id": "1f6b0d52",
   "metadata": {},
   "outputs": [
    {
     "name": "stderr",
     "output_type": "stream",
     "text": [
      "/Users/yeznable/opt/anaconda3/envs/data_processing/lib/python3.9/site-packages/pyspark/sql/context.py:125: FutureWarning: Deprecated in 3.0.0. Use SparkSession.builder.getOrCreate() instead.\n",
      "  warnings.warn(\n",
      "                                                                                \r"
     ]
    },
    {
     "name": "stdout",
     "output_type": "stream",
     "text": [
      "+------+--------------------+\n",
      "|userId|     recommendations|\n",
      "+------+--------------------+\n",
      "|     1|[{194434, 5.48642...|\n",
      "|     6|[{202231, 6.42259...|\n",
      "|    12|[{194434, 5.30531...|\n",
      "|    13|[{194434, 6.22034...|\n",
      "|    16|[{194434, 6.66611...|\n",
      "|    22|[{176597, 6.11011...|\n",
      "|    26|[{194434, 5.54179...|\n",
      "|    27|[{203086, 5.78416...|\n",
      "|    28|[{194434, 7.44716...|\n",
      "|    31|[{203882, 3.80279...|\n",
      "|    34|[{194434, 5.42645...|\n",
      "|    44|[{203086, 6.73830...|\n",
      "|    47|[{194434, 5.31373...|\n",
      "|    52|[{203086, 6.00124...|\n",
      "|    53|[{192089, 6.52217...|\n",
      "|    65|[{169606, 6.81147...|\n",
      "|    76|[{194434, 6.13274...|\n",
      "|    78|[{194434, 6.61670...|\n",
      "|    81|[{194434, 5.46445...|\n",
      "|    85|[{182793, 5.23826...|\n",
      "+------+--------------------+\n",
      "only showing top 20 rows\n",
      "\n"
     ]
    },
    {
     "name": "stderr",
     "output_type": "stream",
     "text": [
      "[Stage 190:====================================================> (98 + 2) / 100]\r"
     ]
    },
    {
     "name": "stdout",
     "output_type": "stream",
     "text": [
      "+-------+--------------------+\n",
      "|movieId|     recommendations|\n",
      "+-------+--------------------+\n",
      "|      1|[{105801, 5.60719...|\n",
      "|     12|[{87426, 5.662331...|\n",
      "|     13|[{87426, 5.710892...|\n",
      "|     22|[{87426, 5.315193...|\n",
      "|     26|[{105801, 5.34046...|\n",
      "|     27|[{143282, 5.64795...|\n",
      "|     28|[{949, 5.8351316}...|\n",
      "|     31|[{87426, 5.454971...|\n",
      "|     34|[{71227, 5.521664...|\n",
      "|     44|[{87426, 5.675578...|\n",
      "|     47|[{121393, 5.66073...|\n",
      "|     52|[{105801, 5.06476...|\n",
      "|     53|[{33115, 5.537861...|\n",
      "|     65|[{87426, 5.192933...|\n",
      "|     76|[{87426, 5.598177...|\n",
      "|     78|[{75043, 4.888745...|\n",
      "|     81|[{75043, 4.918815...|\n",
      "|     85|[{75043, 5.272462...|\n",
      "|     93|[{87426, 5.416026...|\n",
      "|    101|[{33633, 5.033475...|\n",
      "+-------+--------------------+\n",
      "only showing top 20 rows\n",
      "\n"
     ]
    },
    {
     "name": "stderr",
     "output_type": "stream",
     "text": [
      "\r",
      "                                                                                \r"
     ]
    }
   ],
   "source": [
    "model.recommendForAllUsers(3).show()\n",
    "model.recommendForAllItems(3).show()"
   ]
  },
  {
   "cell_type": "code",
   "execution_count": 12,
   "id": "8cd674f4",
   "metadata": {},
   "outputs": [
    {
     "name": "stderr",
     "output_type": "stream",
     "text": [
      "                                                                                \r"
     ]
    }
   ],
   "source": [
    "from pyspark.sql.types import IntegerType\n",
    "\n",
    "user_list = [65, 78, 81]\n",
    "users_df = spark.createDataFrame(user_list, IntegerType()).toDF('userId')\n",
    "user_recs = model.recommendForUserSubset(users_df, 5)\n",
    "movies_list = user_recs.collect()[0].recommendations"
   ]
  },
  {
   "cell_type": "code",
   "execution_count": 13,
   "id": "d7d8679f",
   "metadata": {},
   "outputs": [
    {
     "name": "stdout",
     "output_type": "stream",
     "text": [
      "+-------+-----------------+\n",
      "|movieId|           rating|\n",
      "+-------+-----------------+\n",
      "| 169606|6.811473846435547|\n",
      "| 205277|6.142005443572998|\n",
      "| 189555|5.958441734313965|\n",
      "| 196717|5.944956302642822|\n",
      "| 130219|5.895541191101074|\n",
      "+-------+-----------------+\n",
      "\n"
     ]
    }
   ],
   "source": [
    "recs_df = spark.createDataFrame(movies_list)\n",
    "recs_df.show()"
   ]
  },
  {
   "cell_type": "code",
   "execution_count": 14,
   "id": "9168540c",
   "metadata": {},
   "outputs": [],
   "source": [
    "movies_file = \"/Users/yeznable/Documents/GitHub/Data_Processing/Spark/data/ml-25m/movies.csv\"\n",
    "movies_df = spark.read.csv(f\"file:///{movies_file}\", inferSchema=True, header=True)"
   ]
  },
  {
   "cell_type": "code",
   "execution_count": 15,
   "id": "0cb0e4e8",
   "metadata": {},
   "outputs": [],
   "source": [
    "recs_df.createOrReplaceTempView(\"recommendations\")\n",
    "movies_df.createOrReplaceTempView(\"movies\")"
   ]
  },
  {
   "cell_type": "code",
   "execution_count": 18,
   "id": "b2970a7d",
   "metadata": {},
   "outputs": [
    {
     "name": "stdout",
     "output_type": "stream",
     "text": [
      "+-------+--------------------+--------------------+-------+-----------------+\n",
      "|movieId|               title|              genres|movieId|           rating|\n",
      "+-------+--------------------+--------------------+-------+-----------------+\n",
      "| 169606|Dara O'Briain Cro...|              Comedy| 169606|6.811473846435547|\n",
      "| 205277|   Inside Out (1991)|Comedy|Drama|Romance| 205277|6.142005443572998|\n",
      "| 189555|Dragon Ball Z - T...|    Action|Adventure| 189555|5.958441734313965|\n",
      "| 196717|Bernard and the G...|Comedy|Drama|Fantasy| 196717|5.944956302642822|\n",
      "| 130219|The Dark Knight (...|Action|Crime|Dram...| 130219|5.895541191101074|\n",
      "+-------+--------------------+--------------------+-------+-----------------+\n",
      "\n"
     ]
    }
   ],
   "source": [
    "query = \"\"\"\n",
    "SELECT *\n",
    "FROM\n",
    "    movies JOIN recommendations\n",
    "    ON movies.movieId = recommendations.movieId\n",
    "ORDER BY\n",
    "    rating desc\n",
    "\"\"\"\n",
    "recommended_movies = spark.sql(query)\n",
    "recommended_movies.show()"
   ]
  },
  {
   "cell_type": "code",
   "execution_count": 16,
   "id": "857118ea",
   "metadata": {},
   "outputs": [],
   "source": [
    "def get_recommendations(user_id, num_recs):\n",
    "    users_df = spark.createDataFrame([user_id], IntegerType()).toDF('userId')\n",
    "    user_recs_df = model.recommendForUserSubset(users_df, num_recs)\n",
    "    \n",
    "    recs_list = user_recs_df.collect()[0].recommendations\n",
    "    recs_df = spark.createDataFrame(recs_list)\n",
    "    recommended_movies = spark.sql(query)\n",
    "    return recommended_movies"
   ]
  },
  {
   "cell_type": "code",
   "execution_count": 19,
   "id": "3cd424b3",
   "metadata": {},
   "outputs": [
    {
     "name": "stderr",
     "output_type": "stream",
     "text": [
      "                                                                                \r"
     ]
    },
    {
     "data": {
      "text/html": [
       "<div>\n",
       "<style scoped>\n",
       "    .dataframe tbody tr th:only-of-type {\n",
       "        vertical-align: middle;\n",
       "    }\n",
       "\n",
       "    .dataframe tbody tr th {\n",
       "        vertical-align: top;\n",
       "    }\n",
       "\n",
       "    .dataframe thead th {\n",
       "        text-align: right;\n",
       "    }\n",
       "</style>\n",
       "<table border=\"1\" class=\"dataframe\">\n",
       "  <thead>\n",
       "    <tr style=\"text-align: right;\">\n",
       "      <th></th>\n",
       "      <th>movieId</th>\n",
       "      <th>title</th>\n",
       "      <th>genres</th>\n",
       "      <th>movieId</th>\n",
       "      <th>rating</th>\n",
       "    </tr>\n",
       "  </thead>\n",
       "  <tbody>\n",
       "    <tr>\n",
       "      <th>0</th>\n",
       "      <td>169606</td>\n",
       "      <td>Dara O'Briain Crowd Tickler (2015)</td>\n",
       "      <td>Comedy</td>\n",
       "      <td>169606</td>\n",
       "      <td>6.811474</td>\n",
       "    </tr>\n",
       "    <tr>\n",
       "      <th>1</th>\n",
       "      <td>205277</td>\n",
       "      <td>Inside Out (1991)</td>\n",
       "      <td>Comedy|Drama|Romance</td>\n",
       "      <td>205277</td>\n",
       "      <td>6.142005</td>\n",
       "    </tr>\n",
       "    <tr>\n",
       "      <th>2</th>\n",
       "      <td>189555</td>\n",
       "      <td>Dragon Ball Z - The Fall of Men (2015)</td>\n",
       "      <td>Action|Adventure</td>\n",
       "      <td>189555</td>\n",
       "      <td>5.958442</td>\n",
       "    </tr>\n",
       "    <tr>\n",
       "      <th>3</th>\n",
       "      <td>196717</td>\n",
       "      <td>Bernard and the Genie (1991)</td>\n",
       "      <td>Comedy|Drama|Fantasy</td>\n",
       "      <td>196717</td>\n",
       "      <td>5.944956</td>\n",
       "    </tr>\n",
       "    <tr>\n",
       "      <th>4</th>\n",
       "      <td>130219</td>\n",
       "      <td>The Dark Knight (2011)</td>\n",
       "      <td>Action|Crime|Drama|Thriller</td>\n",
       "      <td>130219</td>\n",
       "      <td>5.895541</td>\n",
       "    </tr>\n",
       "  </tbody>\n",
       "</table>\n",
       "</div>"
      ],
      "text/plain": [
       "   movieId                                   title  \\\n",
       "0   169606      Dara O'Briain Crowd Tickler (2015)   \n",
       "1   205277                       Inside Out (1991)   \n",
       "2   189555  Dragon Ball Z - The Fall of Men (2015)   \n",
       "3   196717            Bernard and the Genie (1991)   \n",
       "4   130219                  The Dark Knight (2011)   \n",
       "\n",
       "                        genres  movieId    rating  \n",
       "0                       Comedy   169606  6.811474  \n",
       "1         Comedy|Drama|Romance   205277  6.142005  \n",
       "2             Action|Adventure   189555  5.958442  \n",
       "3         Comedy|Drama|Fantasy   196717  5.944956  \n",
       "4  Action|Crime|Drama|Thriller   130219  5.895541  "
      ]
     },
     "execution_count": 19,
     "metadata": {},
     "output_type": "execute_result"
    }
   ],
   "source": [
    "recs = get_recommendations(456, 10)\n",
    "recs.toPandas()"
   ]
  },
  {
   "cell_type": "code",
   "execution_count": null,
   "id": "23174661",
   "metadata": {},
   "outputs": [],
   "source": []
  }
 ],
 "metadata": {
  "kernelspec": {
   "display_name": "Python 3 (ipykernel)",
   "language": "python",
   "name": "python3"
  },
  "language_info": {
   "codemirror_mode": {
    "name": "ipython",
    "version": 3
   },
   "file_extension": ".py",
   "mimetype": "text/x-python",
   "name": "python",
   "nbconvert_exporter": "python",
   "pygments_lexer": "ipython3",
   "version": "3.9.7"
  }
 },
 "nbformat": 4,
 "nbformat_minor": 5
}
