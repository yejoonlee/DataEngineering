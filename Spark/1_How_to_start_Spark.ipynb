{
 "cells": [
  {
   "cell_type": "markdown",
   "id": "60252c32",
   "metadata": {},
   "source": [
    "## **Spark 환경설정 for Mac**\n",
    "\n",
    "[ 필요 사항 ]  \n",
    "*  Python (Anaconda ghkfdyd)\n",
    "*  Jupyter notebook\n",
    "*  brew (brew.sh)\n",
    "*  Java (brew tap AdoptOpenJDK/openjdk > brew install --cask adoptopenjdk8)\n",
    "*  Scala (brew install scala)\n",
    "*  Spark (brew install apache-spark)\n",
    "*  Pyspark (pip install pyspark)\n"
   ]
  },
  {
   "cell_type": "markdown",
   "id": "c45b3d88",
   "metadata": {},
   "source": [
    "-----------------\n",
    "해당 설치를 완료한 후 terminal에서 **pyspark**를 입력하여 spark terminal을 시작하려 했더니 **Py4JJavaError**를 뱉으며 죽어버린다.  \n",
    "이유를 찾아보니 메모리 부족이라고 한다...(기기 업그레이드가 매우 필요하다)\n",
    "\n",
    "시도나 해보자는 생각으로 colab으로 가서 작업 해보기로 했고 1_How_to_start_Spark_Colab에서 이어 쓰겠다."
   ]
  },
  {
   "cell_type": "code",
   "execution_count": null,
   "id": "0f3e1ab7",
   "metadata": {},
   "outputs": [],
   "source": []
  }
 ],
 "metadata": {
  "kernelspec": {
   "display_name": "Python 3 (ipykernel)",
   "language": "python",
   "name": "python3"
  },
  "language_info": {
   "codemirror_mode": {
    "name": "ipython",
    "version": 3
   },
   "file_extension": ".py",
   "mimetype": "text/x-python",
   "name": "python",
   "nbconvert_exporter": "python",
   "pygments_lexer": "ipython3",
   "version": "3.9.7"
  }
 },
 "nbformat": 4,
 "nbformat_minor": 5
}
