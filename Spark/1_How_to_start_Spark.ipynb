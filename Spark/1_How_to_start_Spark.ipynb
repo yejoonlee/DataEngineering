{
 "cells": [
  {
   "cell_type": "markdown",
   "id": "60252c32",
   "metadata": {},
   "source": [
    "## **Spark 환경설정 for Mac**\n",
    "\n",
    "[ 필요 사항 ]  \n",
    "*  Python (Anaconda ghkfdyd)\n",
    "*  Jupyter notebook\n",
    "*  brew (brew.sh)\n",
    "*  Java (brew tap AdoptOpenJDK/openjdk > brew install --cask adoptopenjdk8)\n",
    "*  Scala (brew install scala)\n",
    "*  Spark (brew install apache-spark)\n",
    "*  Pyspark (pip install pyspark)\n"
   ]
  },
  {
   "cell_type": "markdown",
   "id": "c45b3d88",
   "metadata": {},
   "source": [
    "-----------------\n",
    "해당 설치를 완료한 후 terminal에서 **pyspark**를 입력하여 spark terminal을 시작하려 했더니 **Py4JJavaError**를 뱉으며 죽어버린다.  \n",
    "이유를 찾아보니 메모리 부족이라고 한다...(기기 업그레이드가 매우 필요하다)\n",
    "\n",
    "시도나 해보자는 생각으로 colab으로 가서 작업 해보기로 했고 1_How_to_start_Spark_Colab에서 이어 쓰겠다."
   ]
  },
  {
   "cell_type": "markdown",
   "id": "418e8bb5",
   "metadata": {},
   "source": [
    "---------------\n",
    "놀랍게도 다시 시도해보니 된다.  \n",
    "저번에는 뭔가 메모리를 먹고 있던 프로세스가 있었나보다.  \n",
    "앞으로는 pyspark를 실행하기 전에 쓰지 않는 프로세스들을 모두 끄고 **\"sudo purge\"**를 실행하여 메모리를 정리하고 시작하도록 하자."
   ]
  },
  {
   "cell_type": "markdown",
   "id": "9ecb496c",
   "metadata": {},
   "source": [
    "---------------\n",
    "그럼에도 에러가 뜨곤 한다.  \n",
    "\n",
    "ERROR SparkContext: Error initializing SparkContext.  \n",
    "java.net.BindException: Can't assign requested address: Service 'sparkDriver' failed after 16 retries (on a random free port)! Consider explicitly setting the appropriate binding address for the service 'sparkDriver' (for example spark.driver.bindAddress for SparkDriver) to the correct binding address.  \n",
    "\n",
    "  \n",
    "위와 같은 에러가 뜬다면 다음 링크를 참조하자.\n",
    "https://itholic.github.io/etc-sparkdriver-retires-err/"
   ]
  },
  {
   "cell_type": "markdown",
   "id": "77cf20e8",
   "metadata": {},
   "source": [
    "--------------\n",
    "여러가지 문제들을 해결하며 시작해보았으니 RDD를 생성하며 마쳐보자."
   ]
  },
  {
   "cell_type": "code",
   "execution_count": 2,
   "id": "0f3e1ab7",
   "metadata": {},
   "outputs": [],
   "source": [
    "from pyspark import SparkConf, SparkContext\n",
    "import pandas as pd"
   ]
  },
  {
   "cell_type": "code",
   "execution_count": 3,
   "id": "1654295a",
   "metadata": {},
   "outputs": [
    {
     "name": "stderr",
     "output_type": "stream",
     "text": [
      "22/01/04 23:14:44 WARN Utils: Your hostname, iyejun-ui-MacBookAir.local resolves to a loopback address: 127.0.0.1; using 192.168.35.206 instead (on interface en0)\n",
      "22/01/04 23:14:44 WARN Utils: Set SPARK_LOCAL_IP if you need to bind to another address\n",
      "Using Spark's default log4j profile: org/apache/spark/log4j-defaults.properties\n",
      "Setting default log level to \"WARN\".\n",
      "To adjust logging level use sc.setLogLevel(newLevel). For SparkR, use setLogLevel(newLevel).\n",
      "22/01/04 23:14:45 WARN NativeCodeLoader: Unable to load native-hadoop library for your platform... using builtin-java classes where applicable\n",
      "22/01/04 23:14:46 WARN Utils: Service 'SparkUI' could not bind on port 4040. Attempting port 4041.\n"
     ]
    }
   ],
   "source": [
    "# Spark 설정\n",
    "conf = SparkConf().setMaster(\"local\").setAppName(\"uber-date-trips\")\n",
    "sc = SparkContext(conf=conf)"
   ]
  },
  {
   "cell_type": "code",
   "execution_count": 4,
   "id": "727f5246",
   "metadata": {},
   "outputs": [],
   "source": [
    "directory = \"/Users/yeznable/Documents/GitHub/Data_Processing/Spark/data/\"\n",
    "filename = \"fhvhv_tripdata_2020-03.csv\""
   ]
  },
  {
   "cell_type": "code",
   "execution_count": 5,
   "id": "da411190",
   "metadata": {},
   "outputs": [],
   "source": [
    "lines = sc.textFile(f\"file:///{directory}/{filename}\")"
   ]
  },
  {
   "cell_type": "code",
   "execution_count": 6,
   "id": "5a3bf763",
   "metadata": {},
   "outputs": [
    {
     "name": "stderr",
     "output_type": "stream",
     "text": [
      "                                                                                \r"
     ]
    }
   ],
   "source": [
    "header = lines.first() \n",
    "filtered_lines = lines.filter(lambda row:row != header) "
   ]
  },
  {
   "cell_type": "code",
   "execution_count": 7,
   "id": "d77d9084",
   "metadata": {},
   "outputs": [],
   "source": [
    "dates = filtered_lines.map(lambda x: x.split(\",\")[2].split(\" \")[0])"
   ]
  },
  {
   "cell_type": "code",
   "execution_count": 8,
   "id": "df55565d",
   "metadata": {},
   "outputs": [
    {
     "name": "stderr",
     "output_type": "stream",
     "text": [
      "                                                                                \r"
     ]
    }
   ],
   "source": [
    "result = dates.countByValue()"
   ]
  },
  {
   "cell_type": "code",
   "execution_count": 10,
   "id": "dd839752",
   "metadata": {},
   "outputs": [
    {
     "data": {
      "text/plain": [
       "<AxesSubplot:>"
      ]
     },
     "execution_count": 10,
     "metadata": {},
     "output_type": "execute_result"
    },
    {
     "data": {
      "image/png": "[encoded data removed]",
      "text/plain": [
       "<Figure size 432x288 with 1 Axes>"
      ]
     },
     "metadata": {
      "needs_background": "light"
     },
     "output_type": "display_data"
    }
   ],
   "source": [
    "import matplotlib.pyplot as plt\n",
    "%matplotlib inline  \n",
    "\n",
    "trips = pd.Series(result, name=\"trips\")\n",
    "trips.plot()"
   ]
  },
  {
   "cell_type": "code",
   "execution_count": null,
   "id": "26544831",
   "metadata": {},
   "outputs": [],
   "source": []
  }
 ],
 "metadata": {
  "kernelspec": {
   "display_name": "Python 3 (ipykernel)",
   "language": "python",
   "name": "python3"
  },
  "language_info": {
   "codemirror_mode": {
    "name": "ipython",
    "version": 3
   },
   "file_extension": ".py",
   "mimetype": "text/x-python",
   "name": "python",
   "nbconvert_exporter": "python",
   "pygments_lexer": "ipython3",
   "version": "3.9.7"
  }
 },
 "nbformat": 4,
 "nbformat_minor": 5
}
